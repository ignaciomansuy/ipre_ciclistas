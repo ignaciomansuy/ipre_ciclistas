{
 "cells": [
  {
   "cell_type": "markdown",
   "metadata": {},
   "source": [
    "## Setup"
   ]
  },
  {
   "cell_type": "code",
   "execution_count": 1,
   "metadata": {},
   "outputs": [],
   "source": [
    "import os\n",
    "import csv\n",
    "from tqdm.notebook import tqdm\n",
    "import numpy as np\n",
    "import math\n",
    "import torch\n",
    "from IPython import display\n",
    "import subprocess\n",
    "import VARIABLES\n",
    "import importlib\n",
    "importlib.reload(VARIABLES)\n",
    "from VARIABLES import *\n"
   ]
  },
  {
   "cell_type": "code",
   "execution_count": 2,
   "metadata": {},
   "outputs": [
    {
     "name": "stdout",
     "output_type": "stream",
     "text": [
      "Ultralytics YOLOv8.1.47  Python-3.12.3 torch-2.2.2+cu121 CUDA:0 (NVIDIA GeForce RTX 3050, 8192MiB)\n",
      "Setup complete  (32 CPUs, 31.8 GB RAM, 602.6/930.7 GB disk)\n"
     ]
    }
   ],
   "source": [
    "!pip install ultralytics\n",
    "\n",
    "from IPython import display\n",
    "display.clear_output()\n",
    "\n",
    "import ultralytics\n",
    "ultralytics.checks()"
   ]
  },
  {
   "cell_type": "code",
   "execution_count": 3,
   "metadata": {},
   "outputs": [
    {
     "name": "stdout",
     "output_type": "stream",
     "text": [
      "supervision.__version__: 0.19.0\n"
     ]
    }
   ],
   "source": [
    "!pip install supervision\n",
    "\n",
    "from IPython import display\n",
    "display.clear_output()\n",
    "\n",
    "import supervision as sv\n",
    "print(\"supervision.__version__:\", sv.__version__)"
   ]
  },
  {
   "cell_type": "code",
   "execution_count": 10,
   "metadata": {},
   "outputs": [
    {
     "name": "stdout",
     "output_type": "stream",
     "text": [
      "YOLOv8x summary (fused): 268 layers, 68200608 parameters, 0 gradients, 257.8 GFLOPs\n",
      "Model summary (fused): 268 layers, 68125494 parameters, 0 gradients, 257.4 GFLOPs\n"
     ]
    }
   ],
   "source": [
    "from ultralytics import YOLO\n",
    "\n",
    "model_byke = YOLO(\"yolov8x.pt\")\n",
    "model_byke.fuse()\n",
    "\n",
    "model_scooter = YOLO(\"runs/detect/train16/weights/best.pt\")\n",
    "model_scooter.fuse()\n",
    "\n",
    "models = {\n",
    "    \"escooter\": (model_scooter, [1]),\n",
    "    \"bicycle\": (model_byke, [1])\n",
    "    }\n",
    "\n",
    "# dict maping class_id to class_name\n",
    "\n",
    "# class_ids of interest - car, motorcycle, bus and truck\n",
    "\n",
    "# model_byke.model.names\n"
   ]
  },
  {
   "cell_type": "markdown",
   "metadata": {},
   "source": [
    "## Utils"
   ]
  },
  {
   "cell_type": "code",
   "execution_count": 11,
   "metadata": {},
   "outputs": [
    {
     "data": {
      "application/vnd.jupyter.widget-view+json": {
       "model_id": "23245bcbaff2466c8e87f21d6efb7203",
       "version_major": 2,
       "version_minor": 0
      },
      "text/plain": [
       " Videos remaining:   0%|          | 0/1 [00:00<?, ?it/s]"
      ]
     },
     "metadata": {},
     "output_type": "display_data"
    },
    {
     "data": {
      "application/vnd.jupyter.widget-view+json": {
       "model_id": "ed126eb7ea3e426386bbd3235c4be8e1",
       "version_major": 2,
       "version_minor": 0
      },
      "text/plain": [
       " Video processing:   0%|          | 0/922 [00:00<?, ?it/s]"
      ]
     },
     "metadata": {},
     "output_type": "display_data"
    }
   ],
   "source": [
    "import VARIABLES\n",
    "import importlib\n",
    "importlib.reload(VARIABLES)\n",
    "from VARIABLES import *\n",
    "\n",
    "import utils\n",
    "from utils import *\n",
    "importlib.reload(utils)\n",
    "from utils import *\n",
    "\n",
    "videos_folder = \"probando4\"\n",
    "videos_folder_path = os.path.join(\"full_recordings\", videos_folder)\n",
    "\n",
    "\n",
    "results_path = os.path.join(\"processing_results\", f\"{getDateTimeShort()} {videos_folder}\")\n",
    "counts_path = os.path.join(results_path, \"counts\")\n",
    "videos_output_path = os.path.join(results_path, \"videos_output\")\n",
    "\n",
    "\n",
    "os.makedirs(results_path, exist_ok=True)\n",
    "os.makedirs(counts_path, exist_ok=True)\n",
    "os.makedirs(videos_output_path, exist_ok=True)\n",
    "\n",
    "max_counters = {\n",
    "  class_name: LineZoneMaxCounterHelper(class_id[0], class_name) \n",
    "  for class_name, (_, class_id) in models.items()\n",
    "}\n",
    "\n",
    "\n",
    "vih = VideoInfoHandler(models)\n",
    "\n",
    "for file_name in tqdm(os.listdir(videos_folder_path), desc=\" Videos remaining\", position=0):\n",
    "  file_path = os.path.join(videos_folder_path, file_name)\n",
    "  vih.re_init(file_path)\n",
    "  process_video(\n",
    "    source_path = file_path,\n",
    "    target_path = os.path.join(videos_output_path, file_name),\n",
    "    models = models,\n",
    "    callback = callback,\n",
    "    vih = vih\n",
    "  )\n",
    "  \n",
    "  for max_c in max_counters.values():\n",
    "    max_c.update_counting(vih.line_zones, file_name)\n",
    "\n",
    "\n",
    "save_results(max_counters, counts_path)\n"
   ]
  },
  {
   "cell_type": "code",
   "execution_count": null,
   "metadata": {},
   "outputs": [
    {
     "data": {
      "text/plain": [
       "defaultdict(int, {('bicycle', 1): 28, ('escooter', 1): 0})"
      ]
     },
     "execution_count": 55,
     "metadata": {},
     "output_type": "execute_result"
    }
   ],
   "source": [
    "vih.line_zones[4].class_out_count"
   ]
  }
 ],
 "metadata": {
  "kernelspec": {
   "display_name": "Python 3",
   "language": "python",
   "name": "python3"
  },
  "language_info": {
   "codemirror_mode": {
    "name": "ipython",
    "version": 3
   },
   "file_extension": ".py",
   "mimetype": "text/x-python",
   "name": "python",
   "nbconvert_exporter": "python",
   "pygments_lexer": "ipython3",
   "version": "3.12.3"
  }
 },
 "nbformat": 4,
 "nbformat_minor": 2
}
